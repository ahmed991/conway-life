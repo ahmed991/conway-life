{
 "cells": [
  {
   "cell_type": "code",
   "execution_count": 2,
   "id": "7222b029-eaad-428a-95ab-8aa0c6fc1647",
   "metadata": {},
   "outputs": [],
   "source": [
    "\n",
    "def readGrid(filename):\n",
    "    grid = []\n",
    "    with open(filename) as f:\n",
    "        w, h  = map(int, f.readline().split(maxsplit = 1))\n",
    "        for y in range(h):\n",
    "            grid.append([0] * w)\n",
    "            \n",
    "        for ind, line in enumerate(f):\n",
    "            try:\n",
    "                y, x = map(int, line.split(maxsplit = 1))\n",
    "\n",
    "                if y < 0 or x < 0:\n",
    "                    raise ValueError\n",
    "            \n",
    "            except ValueError:\n",
    "                raise Exception(f\"Invalid cell on line {ind + 2}\")\n",
    "                \n",
    "            \n",
    "            grid[y][x] = 1      \n",
    "    return grid"
   ]
  },
  {
   "cell_type": "markdown",
   "id": "35884089-bb70-477a-a909-b0f750ab53dd",
   "metadata": {},
   "source": [
    "Rules:\n",
    "\n",
    "Any live cell with fewer than two live neighbours dies, as if by underpopulation.\n",
    "Any live cell with two or three live neighbours lives on to the next generation.\n",
    "Any live cell with more than three live neighbours dies, as if by overpopulation.\n",
    "Any dead cell with exactly three live neighbours becomes a live cell, as if by reproduction."
   ]
  },
  {
   "cell_type": "code",
   "execution_count": 3,
   "id": "b60f3e7d-36e5-49a1-91ea-90a8e7b4fb3d",
   "metadata": {},
   "outputs": [],
   "source": [
    "def tick(grid):\n",
    "    h, w = len(grid), len(grid[0])\n",
    "    nextgrid = []\n",
    "    for y in range(h):\n",
    "        nextgrid.append([0] * w)\n",
    "        \n",
    "    for y, row in enumerate(grid):\n",
    "        for x, cell in enumerate(row):\n",
    "            count = 0\n",
    "            if y > 0:\n",
    "                count += grid[y-1][x-1] if x > 0 else 0 \n",
    "                count += grid[y-1][x]\n",
    "                count += grid[y-1][x+1] if x < w - 1 else 0\n",
    "            \n",
    "            if y < h - 1:\n",
    "                count += grid[y+1][x-1] if x > 0 else 0\n",
    "                count += grid[y+1][x]\n",
    "                count += grid[y+1][x+1] if x < w - 1 else 0\n",
    "\n",
    "            count += grid[y][x-1] if x > 0 else 0\n",
    "            count += grid[y][x+1] if x < w - 1 else 0\n",
    "            \n",
    "            nextgrid[y][x] = 1 if count == 3 or (count == 2 and cell) else 0\n",
    "            \n",
    "    return nextgrid"
   ]
  },
  {
   "cell_type": "code",
   "execution_count": 4,
   "id": "638e210a-6541-460e-8c5f-41352c664c64",
   "metadata": {},
   "outputs": [],
   "source": [
    "filename = 'matrix.txt'"
   ]
  },
  {
   "cell_type": "code",
   "execution_count": 5,
   "id": "923adb3d-07df-47c1-b329-1ecf84bfc6a2",
   "metadata": {},
   "outputs": [],
   "source": [
    "grid = readGrid(filename)"
   ]
  },
  {
   "cell_type": "code",
   "execution_count": 6,
   "id": "0abc3ef8-fead-4194-b72f-458980ca075a",
   "metadata": {},
   "outputs": [
    {
     "data": {
      "text/plain": [
       "[[0, 0, 0, 0, 0],\n",
       " [0, 0, 0, 0, 0],\n",
       " [0, 0, 0, 0, 0],\n",
       " [0, 0, 1, 0, 1],\n",
       " [0, 0, 0, 1, 1]]"
      ]
     },
     "execution_count": 6,
     "metadata": {},
     "output_type": "execute_result"
    }
   ],
   "source": [
    "num_generations = 5\n",
    "\n",
    "nextgrid = grid.copy()\n",
    "\n",
    "for i in range(num_generations):\n",
    "    nextgrid = tick(nextgrid)\n",
    "\n",
    "nextgrid"
   ]
  },
  {
   "cell_type": "code",
   "execution_count": null,
   "id": "9d60ac98-eb9a-46a7-99f4-cbb7fd1f8999",
   "metadata": {},
   "outputs": [],
   "source": []
  }
 ],
 "metadata": {
  "kernelspec": {
   "display_name": "Python 3 (ipykernel)",
   "language": "python",
   "name": "python3"
  },
  "language_info": {
   "codemirror_mode": {
    "name": "ipython",
    "version": 3
   },
   "file_extension": ".py",
   "mimetype": "text/x-python",
   "name": "python",
   "nbconvert_exporter": "python",
   "pygments_lexer": "ipython3",
   "version": "3.11.0"
  }
 },
 "nbformat": 4,
 "nbformat_minor": 5
}
