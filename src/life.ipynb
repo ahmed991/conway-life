{
 "cells": [
  {
   "cell_type": "code",
   "execution_count": 17,
   "id": "b2f67e2d-fd1b-4cb6-8c3e-c2c673852a4d",
   "metadata": {},
   "outputs": [],
   "source": [
    "# !pip install bitarray"
   ]
  },
  {
   "cell_type": "markdown",
   "id": "6c60bc61-053e-4480-934f-a2b7c58d7757",
   "metadata": {},
   "source": [
    "## Game of Life In Python"
   ]
  },
  {
   "cell_type": "markdown",
   "id": "35884089-bb70-477a-a909-b0f750ab53dd",
   "metadata": {},
   "source": [
    "**Rules:**\n",
    "- A live cell with fewer than two live neighbours dies due to underpopulation.\n",
    "- A live cell with two or three live neighbours survives to the next generation.\n",
    "- A live cell with more than three live neighbours dies due to overpopulation.\n",
    "- A dead cell with exactly three live neighbours becomes a live cell by reproduction.\n"
   ]
  },
  {
   "cell_type": "code",
   "execution_count": 9,
   "id": "f395e411-b161-481c-aa98-23c3975e6bfd",
   "metadata": {},
   "outputs": [],
   "source": [
    "#Importing necessary modules\n",
    "from life.life import Life"
   ]
  },
  {
   "cell_type": "code",
   "execution_count": null,
   "id": "cd4d1a56-d1ec-4c96-9aa2-bba2e17c453a",
   "metadata": {},
   "outputs": [],
   "source": [
    "#Filepath for the input dataset\n",
    "filename = '../test_dataset/matrix.txt'"
   ]
  },
  {
   "cell_type": "code",
   "execution_count": 5,
   "id": "c67df092-3784-4c62-ad02-9c73415aa44f",
   "metadata": {},
   "outputs": [],
   "source": [
    "#initialize List object\n",
    "life = Life(filename)"
   ]
  },
  {
   "cell_type": "code",
   "execution_count": 6,
   "id": "e72028a3-3e7a-4b11-8d50-d5b2d1ae8c57",
   "metadata": {},
   "outputs": [
    {
     "data": {
      "text/plain": [
       "[[0, 0, 0, 0, 0, 0, 0, 0, 0, 0, 0, 0],\n",
       " [0, 0, 0, 0, 0, 0, 0, 0, 0, 0, 0, 0],\n",
       " [0, 0, 0, 1, 0, 0, 0, 0, 0, 0, 0, 0],\n",
       " [0, 0, 0, 0, 1, 0, 0, 0, 0, 0, 0, 0],\n",
       " [0, 0, 1, 1, 1, 0, 0, 0, 0, 0, 0, 0],\n",
       " [0, 0, 0, 0, 0, 0, 0, 0, 0, 0, 0, 0],\n",
       " [0, 0, 0, 0, 0, 0, 0, 0, 0, 0, 0, 0],\n",
       " [0, 0, 0, 0, 0, 0, 0, 0, 0, 0, 0, 0],\n",
       " [0, 0, 0, 0, 0, 0, 0, 0, 0, 0, 0, 0],\n",
       " [0, 0, 0, 0, 0, 0, 0, 0, 0, 0, 0, 0],\n",
       " [0, 0, 0, 0, 0, 0, 0, 0, 0, 0, 0, 0],\n",
       " [0, 0, 0, 0, 0, 0, 0, 0, 0, 0, 0, 0]]"
      ]
     },
     "execution_count": 6,
     "metadata": {},
     "output_type": "execute_result"
    }
   ],
   "source": [
    "life.grid"
   ]
  },
  {
   "cell_type": "code",
   "execution_count": 7,
   "id": "c1547ad7-c2dd-435a-b629-009218c85f7f",
   "metadata": {},
   "outputs": [],
   "source": [
    "#Run the iterations 5 times\n",
    "life.tick(5)"
   ]
  },
  {
   "cell_type": "code",
   "execution_count": 16,
   "id": "b1185aee-2b8f-43e1-a643-224fc7dd2a36",
   "metadata": {},
   "outputs": [],
   "source": [
    "#getting height and width of the output grid\n"
   ]
  },
  {
   "cell_type": "code",
   "execution_count": 26,
   "id": "19764693-b5ba-404f-ab84-3b09ef6522c6",
   "metadata": {},
   "outputs": [],
   "source": [
    "# Finding the alive cells to match the input\n",
    "def write_output(output_filename):\n",
    "    \n",
    "    alive_cells = []\n",
    "    width = life.w\n",
    "    height = life.h\n",
    "    output_grid = life.grid\n",
    "    f = open(output_filename, \"a\")\n",
    "    f.write(f\"{width} {height}\\n\")\n",
    "    for i,x in enumerate(output_grid):\n",
    "        for j,y in enumerate(x):\n",
    "            if(y==1):\n",
    "                print(i,j)\n",
    "                f.write(f\"{i} {j}\\n\")\n",
    "    f.close()\n"
   ]
  },
  {
   "cell_type": "code",
   "execution_count": 28,
   "id": "c672a727-3142-430e-a60a-3fc624d28cc1",
   "metadata": {},
   "outputs": [
    {
     "ename": "NameError",
     "evalue": "name 'ou' is not defined",
     "output_type": "error",
     "traceback": [
      "\u001b[1;31m---------------------------------------------------------------------------\u001b[0m",
      "\u001b[1;31mNameError\u001b[0m                                 Traceback (most recent call last)",
      "Cell \u001b[1;32mIn[28], line 2\u001b[0m\n\u001b[0;32m      1\u001b[0m output_filename \u001b[38;5;241m=\u001b[39m \u001b[38;5;124m\"\u001b[39m\u001b[38;5;124moutput.txt\u001b[39m\u001b[38;5;124m\"\u001b[39m\n\u001b[1;32m----> 2\u001b[0m write_output(output_filename\u001b[38;5;241m=\u001b[39m\u001b[43mou\u001b[49m)\n",
      "\u001b[1;31mNameError\u001b[0m: name 'ou' is not defined"
     ]
    }
   ],
   "source": [
    "output_filename = \"output.txt\"\n",
    "write_output(output_filename=output_filename)"
   ]
  },
  {
   "cell_type": "code",
   "execution_count": null,
   "id": "2aa2ff55-06bc-4f3b-aa46-03a9787b940e",
   "metadata": {},
   "outputs": [],
   "source": []
  },
  {
   "cell_type": "markdown",
   "id": "6ebe8ce2-76dd-476c-b1b1-06e38cb9d96d",
   "metadata": {},
   "source": [
    "#### Coding Practice followed"
   ]
  },
  {
   "cell_type": "markdown",
   "id": "db2a7950-7191-41b3-89b6-3064e9eb2b61",
   "metadata": {},
   "source": [
    "1. **Optimized Memory Usage by Changing Data Type**  \n",
    "   Changed the data type from an array to a bitarray, which uses significantly less memory, helping to handle larger datasets more efficiently.\n",
    "\n",
    "2. **Streamlined Loops and Summation Operations**  \n",
    "   Reduced the number of lines for loops by combining summations into a single line where possible, resulting in more concise and readable code.\n",
    "\n",
    "3. **Added Matrix Padding and Reduced Check Conditions**  \n",
    "   Implemented padding around the matrix to avoid boundary-related negative conditions, which also reduced the need for extra checks, further optimizing the performance of the code.\n",
    "\n",
    "4. **Used Placeholders for Efficient Array Management**  \n",
    "   Replaced entire matrices with placeholders to keep the size of arrays manageable, especially when working with larger data sets.\n",
    "\n",
    "5. **Pre-calculated Index Values for Loops**  \n",
    "   Instead of calculating index values within the loop, assigned them before the loop and then reused the variable values inside the loop. This reduced redundant calculations and improved performance.\n",
    "\n",
    "6. **Handled Iterations with Copy Functions**  \n",
    "   Used copy functions to ensure that previous iteration results are fully copied rather than referenced. This avoids issues that arise from Python’s default pass-by-reference behavior.\n",
    "\n",
    "7. **Employed Object-Oriented Programming (OOP) Principles**  \n",
    "   Leveraged OOP techniques to better manage memory usage and reduce potential memory leakage, while also improving the structure and scalability of the code.\n",
    "\n",
    "8. **Enhanced Code Readability with Documentation**  \n",
    "   Added  docstrings to the code files, making it easier to understand, maintain, and extend the code in a standalone environment.\n",
    "\n",
    "10. **Using GIT for versioning code**\n",
    "    Using git for code versioning and keeping a relation between previous code changes and latest updates.\n"
   ]
  },
  {
   "cell_type": "code",
   "execution_count": 5,
   "id": "923adb3d-07df-47c1-b329-1ecf84bfc6a2",
   "metadata": {},
   "outputs": [],
   "source": []
  },
  {
   "cell_type": "code",
   "execution_count": null,
   "id": "9d60ac98-eb9a-46a7-99f4-cbb7fd1f8999",
   "metadata": {},
   "outputs": [],
   "source": []
  },
  {
   "cell_type": "code",
   "execution_count": null,
   "id": "f5be1388-dea0-4468-b38d-0f11cd348cf3",
   "metadata": {},
   "outputs": [],
   "source": []
  }
 ],
 "metadata": {
  "kernelspec": {
   "display_name": "Python 3 (ipykernel)",
   "language": "python",
   "name": "python3"
  },
  "language_info": {
   "codemirror_mode": {
    "name": "ipython",
    "version": 3
   },
   "file_extension": ".py",
   "mimetype": "text/x-python",
   "name": "python",
   "nbconvert_exporter": "python",
   "pygments_lexer": "ipython3",
   "version": "3.11.0"
  }
 },
 "nbformat": 4,
 "nbformat_minor": 5
}
